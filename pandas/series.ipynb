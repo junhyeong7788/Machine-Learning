{
 "cells": [
  {
   "cell_type": "markdown",
   "metadata": {},
   "source": [
    "## Pandas_Series\n",
    "- 시리즈 객체 생성 방법\n",
    "    - `pandas.Series(data=None, index=None, dtype=None, name=None, copy=False, fastpath=False)`\n",
    "    - 시리즈 = 데이터 + 데이터를 가리키는 인덱스\n",
    "    - 시리즈 생성\n",
    "        - 데이터 : 1차원 배열 형식\n",
    "        - 인덱스 : 인덱스의 값을 인덱스 레이블 이라고 함 / 인덱스 레이블은 정수, 문자열, 실수 또는 파이썬 객체 등의 데이터 형식을 가짐\n",
    "        "
   ]
  },
  {
   "cell_type": "markdown",
   "metadata": {},
   "source": [
    "#### 1. 리스트, ndarray에서 시리즈 객체 생성\n",
    "- 데이터 : 리스트, ndarray(numpy 배열)\n",
    "- 인덱스 : \n",
    "    - 데이터가 ndarray인 경우 : 데이터 길이와 같게 지정\n",
    "    - 인덱스가 전달되지 않은 경우 : 1 ~ len(data) -1 까지의 정수 인덱스가 자동 생성"
   ]
  },
  {
   "cell_type": "code",
   "execution_count": 2,
   "metadata": {},
   "outputs": [],
   "source": [
    "import pandas as pd\n",
    "import numpy as np"
   ]
  },
  {
   "cell_type": "code",
   "execution_count": 3,
   "metadata": {},
   "outputs": [
    {
     "name": "stdout",
     "output_type": "stream",
     "text": [
      "0    4\n",
      "1    7\n",
      "2   -5\n",
      "3    3\n",
      "dtype: int64\n",
      "------------------\n",
      "RangeIndex(start=0, stop=4, step=1)\n",
      "------------------\n",
      "[ 4  7 -5  3]\n"
     ]
    }
   ],
   "source": [
    "# 인덱스 미지정\n",
    "obj = pd.Series([4, 7, -5, 3])      # 인덱스를 지정하지 않으면 0부터 시작하는 정수 인덱스가 자동 생성\n",
    "print(obj)\n",
    "print('------------------')\n",
    "print(obj.index)\n",
    "print('------------------')\n",
    "print(obj.values)"
   ]
  },
  {
   "cell_type": "code",
   "execution_count": 5,
   "metadata": {},
   "outputs": [
    {
     "name": "stdout",
     "output_type": "stream",
     "text": [
      "a    4\n",
      "b    7\n",
      "c   -5\n",
      "d    3\n",
      "dtype: int64\n",
      "------------------\n",
      "Index(['a', 'b', 'c', 'd'], dtype='object')\n",
      "------------------\n",
      "[ 4  7 -5  3]\n"
     ]
    }
   ],
   "source": [
    "# 인덱스 지정\n",
    "obj2 = pd.Series([4, 7, -5, 3], index= ['a', 'b', 'c', 'd']) # 인덱스를 지정하여 생성\n",
    "print(obj2)\n",
    "print('------------------')\n",
    "print(obj2.index)\n",
    "print('------------------')\n",
    "print(obj2.values)\n"
   ]
  },
  {
   "cell_type": "markdown",
   "metadata": {},
   "source": [
    "#### dtype 속성 : 데이터 프레임 에서 특정 열에 대해서만 자료형의 정보를 확인할 때 사용"
   ]
  },
  {
   "cell_type": "code",
   "execution_count": 6,
   "metadata": {},
   "outputs": [
    {
     "name": "stdout",
     "output_type": "stream",
     "text": [
      "a   -0.853248\n",
      "b    1.615727\n",
      "c   -0.623513\n",
      "d    1.444237\n",
      "dtype: float64\n"
     ]
    }
   ],
   "source": [
    "ser = pd.Series(np.random.randn(4), index=['a', 'b', 'c', 'd'])   #인덱스를 지정하여 생성\n",
    "print(ser)    #시리즈 출력"
   ]
  },
  {
   "cell_type": "code",
   "execution_count": 7,
   "metadata": {},
   "outputs": [
    {
     "data": {
      "text/plain": [
       "array([-0.85324801,  1.6157272 , -0.62351322,  1.44423712])"
      ]
     },
     "execution_count": 7,
     "metadata": {},
     "output_type": "execute_result"
    }
   ],
   "source": [
    "ser.values      #값만 출력"
   ]
  },
  {
   "cell_type": "code",
   "execution_count": 8,
   "metadata": {},
   "outputs": [
    {
     "data": {
      "text/plain": [
       "Index(['a', 'b', 'c', 'd'], dtype='object')"
      ]
     },
     "execution_count": 8,
     "metadata": {},
     "output_type": "execute_result"
    }
   ],
   "source": [
    "ser.index       #인덱스만 출력"
   ]
  },
  {
   "cell_type": "code",
   "execution_count": 9,
   "metadata": {},
   "outputs": [
    {
     "data": {
      "text/plain": [
       "dtype('float64')"
      ]
     },
     "execution_count": 9,
     "metadata": {},
     "output_type": "execute_result"
    }
   ],
   "source": [
    "ser.dtypes      #자료형만 출력"
   ]
  },
  {
   "cell_type": "code",
   "execution_count": 14,
   "metadata": {},
   "outputs": [
    {
     "name": "stdout",
     "output_type": "stream",
     "text": [
      "4\n",
      "7\n",
      "-5\n",
      "3\n",
      "------------------\n",
      "a    4\n",
      "b    7\n",
      "c    6\n",
      "dtype: int64\n",
      "------------------\n",
      "a    4\n",
      "b    7\n",
      "c    6\n",
      "dtype: int64\n"
     ]
    },
    {
     "name": "stderr",
     "output_type": "stream",
     "text": [
      "/var/folders/g6/3qldr4jd21lbltbbdswtbqkm0000gn/T/ipykernel_782/3634046199.py:12: FutureWarning: Series.__getitem__ treating keys as positions is deprecated. In a future version, integer keys will always be treated as labels (consistent with DataFrame behavior). To access a value by position, use `ser.iloc[pos]`\n",
      "  print(obj2[[0, 1, 2]]) # 인덱스를 사용해서 값에 접근\n"
     ]
    }
   ],
   "source": [
    "obj2 = pd.Series([4, 7, -5, 3], index= ['a', 'b', 'c', 'd'])\n",
    "print(obj2['a'])\n",
    "print(obj2['b'])\n",
    "print(obj2['c'])\n",
    "print(obj2['d'])\n",
    "\n",
    "print('------------------')\n",
    "\n",
    "obj2['c'] = 6\n",
    "print(obj2[['a', 'b', 'c']]) # 인덱스 레이블을 사용해서 값에 접근\n",
    "print('------------------')\n",
    "print(obj2[[0, 1, 2]]) # 인덱스를 사용해서 값에 접근"
   ]
  },
  {
   "cell_type": "code",
   "execution_count": 13,
   "metadata": {},
   "outputs": [
    {
     "name": "stdout",
     "output_type": "stream",
     "text": [
      "a    4\n",
      "b    7\n",
      "c    6\n",
      "dtype: int64\n"
     ]
    },
    {
     "name": "stderr",
     "output_type": "stream",
     "text": [
      "/var/folders/g6/3qldr4jd21lbltbbdswtbqkm0000gn/T/ipykernel_782/643830124.py:1: FutureWarning: Series.__getitem__ treating keys as positions is deprecated. In a future version, integer keys will always be treated as labels (consistent with DataFrame behavior). To access a value by position, use `ser.iloc[pos]`\n",
      "  print(obj2[[0, 1, 2]])\n"
     ]
    }
   ],
   "source": []
  },
  {
   "cell_type": "code",
   "execution_count": 18,
   "metadata": {},
   "outputs": [
    {
     "name": "stdout",
     "output_type": "stream",
     "text": [
      "a    4\n",
      "b    7\n",
      "dtype: int64\n",
      "a    4\n",
      "b    7\n",
      "c    6\n",
      "dtype: int64\n"
     ]
    }
   ],
   "source": [
    "# 시리즈 인덱싱과 슬라이싱\n",
    "print(obj2[0:2]) \n",
    "print(obj2['a':'c'])"
   ]
  },
  {
   "cell_type": "code",
   "execution_count": 20,
   "metadata": {},
   "outputs": [
    {
     "name": "stdout",
     "output_type": "stream",
     "text": [
      "a    False\n",
      "b     True\n",
      "c     True\n",
      "d    False\n",
      "dtype: bool\n"
     ]
    }
   ],
   "source": [
    "print(obj2 > 5)"
   ]
  },
  {
   "cell_type": "code",
   "execution_count": 21,
   "metadata": {},
   "outputs": [
    {
     "name": "stdout",
     "output_type": "stream",
     "text": [
      "True\n",
      "False\n"
     ]
    }
   ],
   "source": [
    "print('b' in obj2)\n",
    "print('e' in obj2)"
   ]
  },
  {
   "cell_type": "code",
   "execution_count": 22,
   "metadata": {},
   "outputs": [
    {
     "name": "stdout",
     "output_type": "stream",
     "text": [
      "a    4\n",
      "b    7\n",
      "c    6\n",
      "d    3\n",
      "dtype: int64\n",
      "a     8\n",
      "b    14\n",
      "c    12\n",
      "d     6\n",
      "dtype: int64\n"
     ]
    }
   ],
   "source": [
    "print(obj2[obj2 > 0])\n",
    "print(obj2 * 2)"
   ]
  },
  {
   "cell_type": "markdown",
   "metadata": {},
   "source": [
    "#### 2. 딕셔너리 데이터에서 시리즈 객체 생성\n",
    "- 데이터 : 딕셔너리의 값\n",
    "- 인덱스 : 딕셔너리의 키 값이 순서대로 들어감\n",
    "    - 색인을 직접 지정하고 싶다면 원하는 순서대로 색인을 넘겨 줄 수 있음\n",
    "    - 딕셔너리 키에 해당하는 값이 없으면 NaN(Not a Number)값 표시되고 판다스에서 누락된 값, 혹은 NA값으로 취급\n",
    "- 딕셔너리 자료형에서 제공하는 in 연산 가능\n",
    "- items 메서드를 사용하면 for 루프를 통해 각 원소의 key와 value에 접근 가능"
   ]
  },
  {
   "cell_type": "code",
   "execution_count": 23,
   "metadata": {},
   "outputs": [
    {
     "name": "stdout",
     "output_type": "stream",
     "text": [
      "서울    9904312\n",
      "부산    3448737\n",
      "인천    2890451\n",
      "대구    2466052\n",
      "dtype: int64\n"
     ]
    }
   ],
   "source": [
    "s = pd.Series([9904312, 3448737, 2890451, 2466052],\n",
    "              index=[\"서울\", \"부산\", \"인천\", \"대구\"])       #인덱스를 지정하여 생성\n",
    "print(s)    "
   ]
  },
  {
   "cell_type": "code",
   "execution_count": 24,
   "metadata": {},
   "outputs": [
    {
     "name": "stdout",
     "output_type": "stream",
     "text": [
      "서울 인구는 9904312명 입니다.\n",
      "부산 인구는 3448737명 입니다.\n",
      "인천 인구는 2890451명 입니다.\n",
      "대구 인구는 2466052명 입니다.\n"
     ]
    }
   ],
   "source": [
    "for key, value in s.items():        #items()함수를 사용하여 key, value를 출력\n",
    "    print(f'{key} 인구는 {value}명 입니다.')        #key, value 출력"
   ]
  },
  {
   "cell_type": "code",
   "execution_count": 25,
   "metadata": {},
   "outputs": [
    {
     "name": "stdout",
     "output_type": "stream",
     "text": [
      "날짜      2022-07-12\n",
      "PI            3.14\n",
      "주소           ulsan\n",
      "점수             100\n",
      "참/거짓          True\n",
      "dtype: object\n",
      "------------------\n",
      "2022-07-12\n",
      "------------------\n",
      "ulsan\n",
      "3.14\n"
     ]
    }
   ],
   "source": [
    "list_data = ['2022-07-12', 3.14, 'ulsan', 100, True]\n",
    "series_data = pd.Series(list_data, index=['날짜', 'PI', '주소', '점수', '참/거짓'])\n",
    "print(series_data)\n",
    "print('------------------')\n",
    "print(series_data.날짜) # 인덱스 레이블이 속성인 것처럼 .(dot)를 사용해서 값에 접근\n",
    "print('------------------')\n",
    "print(series_data['주소']) # 인덱스 레이블을 사용해서 값에 접근\n",
    "print(series_data['PI'])"
   ]
  },
  {
   "cell_type": "markdown",
   "metadata": {},
   "source": [
    "#### 딕셔너리로 시리즈 만들기"
   ]
  },
  {
   "cell_type": "code",
   "execution_count": 26,
   "metadata": {},
   "outputs": [
    {
     "name": "stdout",
     "output_type": "stream",
     "text": [
      "<class 'pandas.core.series.Series'>\n",
      "--------------\n",
      "a    1\n",
      "b    2\n",
      "c    3\n",
      "dtype: int64\n"
     ]
    }
   ],
   "source": [
    "dic1 = {'a':1, 'b':2, 'c':3}        #딕셔너리 생성\n",
    "sd = pd.Series(dic1)                #딕셔너리를 시리즈로 변환\n",
    "print(type(sd))                     #타입 출력\n",
    "print('--------------')             \n",
    "print(sd)     "
   ]
  },
  {
   "cell_type": "code",
   "execution_count": 27,
   "metadata": {},
   "outputs": [
    {
     "data": {
      "text/plain": [
       "b    2.0\n",
       "c    3.0\n",
       "d    NaN\n",
       "a    1.0\n",
       "dtype: float64"
      ]
     },
     "execution_count": 27,
     "metadata": {},
     "output_type": "execute_result"
    }
   ],
   "source": [
    "pd.Series(dic1, index=['b', 'c', 'd', 'a']) #인덱스를 지정하여 생성 d는 없으므로 NaN으로 출력"
   ]
  },
  {
   "cell_type": "markdown",
   "metadata": {},
   "source": [
    "#### 딕셔너리 값으로 시리즈 객체 생성"
   ]
  },
  {
   "cell_type": "code",
   "execution_count": 28,
   "metadata": {},
   "outputs": [
    {
     "data": {
      "text/plain": [
       "서울    9904312\n",
       "부산    3448737\n",
       "인천    2890451\n",
       "대구    2466052\n",
       "dtype: int64"
      ]
     },
     "execution_count": 28,
     "metadata": {},
     "output_type": "execute_result"
    }
   ],
   "source": [
    "s1 = pd.Series({\"서울\": 9904312, \"부산\": 3448737, \"인천\": 2890451, \"대구\": 2466052})\n",
    "s1"
   ]
  },
  {
   "cell_type": "code",
   "execution_count": 32,
   "metadata": {},
   "outputs": [
    {
     "data": {
      "text/plain": [
       "부산    3393191\n",
       "서울    9631482\n",
       "인천    2632035\n",
       "대전    1490158\n",
       "dtype: int64"
      ]
     },
     "execution_count": 32,
     "metadata": {},
     "output_type": "execute_result"
    }
   ],
   "source": [
    "s2 = pd.Series({\"서울\": 9631482, \"부산\": 3393191, \"인천\": 2632035, \"대전\": 1490158},\n",
    "                index=[\"부산\", \"서울\", \"인천\", \"대전\"])\n",
    "s2"
   ]
  },
  {
   "cell_type": "markdown",
   "metadata": {},
   "source": [
    "#### 시리즈의 인덱스 기반 연산\n",
    "- isnull 메서드 : NaN값이면 True\n",
    "- notnull 메서드 : NaN값이면 False"
   ]
  },
  {
   "cell_type": "code",
   "execution_count": 34,
   "metadata": {},
   "outputs": [
    {
     "data": {
      "text/plain": [
       "대구           NaN\n",
       "대전           NaN\n",
       "부산     6841928.0\n",
       "서울    19535794.0\n",
       "인천     5522486.0\n",
       "dtype: float64"
      ]
     },
     "execution_count": 34,
     "metadata": {},
     "output_type": "execute_result"
    }
   ],
   "source": [
    "ds = s1 + s2 \n",
    "ds # 인덱스가 매치되지 않는 경우 : NaN 표시, 자료형은 float형"
   ]
  },
  {
   "cell_type": "code",
   "execution_count": 35,
   "metadata": {},
   "outputs": [
    {
     "data": {
      "text/plain": [
       "대구    False\n",
       "대전    False\n",
       "부산     True\n",
       "서울     True\n",
       "인천     True\n",
       "dtype: bool"
      ]
     },
     "execution_count": 35,
     "metadata": {},
     "output_type": "execute_result"
    }
   ],
   "source": [
    "pd.notnull(ds)"
   ]
  },
  {
   "cell_type": "code",
   "execution_count": 36,
   "metadata": {},
   "outputs": [
    {
     "data": {
      "text/plain": [
       "대구    False\n",
       "대전    False\n",
       "부산     True\n",
       "서울     True\n",
       "인천     True\n",
       "dtype: bool"
      ]
     },
     "execution_count": 36,
     "metadata": {},
     "output_type": "execute_result"
    }
   ],
   "source": [
    "ds.notnull()"
   ]
  },
  {
   "cell_type": "code",
   "execution_count": 37,
   "metadata": {},
   "outputs": [
    {
     "data": {
      "text/plain": [
       "부산     6841928.0\n",
       "서울    19535794.0\n",
       "인천     5522486.0\n",
       "dtype: float64"
      ]
     },
     "execution_count": 37,
     "metadata": {},
     "output_type": "execute_result"
    }
   ],
   "source": [
    "ds[pd.notnull(ds)]"
   ]
  },
  {
   "cell_type": "code",
   "execution_count": 38,
   "metadata": {},
   "outputs": [
    {
     "data": {
      "text/plain": [
       "부산     6841928.0\n",
       "서울    19535794.0\n",
       "인천     5522486.0\n",
       "dtype: float64"
      ]
     },
     "execution_count": 38,
     "metadata": {},
     "output_type": "execute_result"
    }
   ],
   "source": [
    "ds[ds.notnull()]"
   ]
  },
  {
   "cell_type": "code",
   "execution_count": 39,
   "metadata": {},
   "outputs": [
    {
     "name": "stdout",
     "output_type": "stream",
     "text": [
      "대구     True\n",
      "대전     True\n",
      "부산    False\n",
      "서울    False\n",
      "인천    False\n",
      "dtype: bool\n"
     ]
    }
   ],
   "source": [
    "print(pd.isnull(ds))"
   ]
  },
  {
   "cell_type": "code",
   "execution_count": 40,
   "metadata": {},
   "outputs": [
    {
     "data": {
      "text/plain": [
       "대구     True\n",
       "대전     True\n",
       "부산    False\n",
       "서울    False\n",
       "인천    False\n",
       "dtype: bool"
      ]
     },
     "execution_count": 40,
     "metadata": {},
     "output_type": "execute_result"
    }
   ],
   "source": [
    "pd.isnull(ds)"
   ]
  },
  {
   "cell_type": "code",
   "execution_count": 41,
   "metadata": {},
   "outputs": [
    {
     "data": {
      "text/plain": [
       "대구     True\n",
       "대전     True\n",
       "부산    False\n",
       "서울    False\n",
       "인천    False\n",
       "dtype: bool"
      ]
     },
     "execution_count": 41,
     "metadata": {},
     "output_type": "execute_result"
    }
   ],
   "source": [
    "ds.isnull()"
   ]
  },
  {
   "cell_type": "code",
   "execution_count": 42,
   "metadata": {},
   "outputs": [
    {
     "data": {
      "text/plain": [
       "대구   NaN\n",
       "대전   NaN\n",
       "dtype: float64"
      ]
     },
     "execution_count": 42,
     "metadata": {},
     "output_type": "execute_result"
    }
   ],
   "source": [
    "ds[pd.isnull(ds)]"
   ]
  },
  {
   "cell_type": "code",
   "execution_count": 43,
   "metadata": {},
   "outputs": [
    {
     "data": {
      "text/plain": [
       "대구   NaN\n",
       "대전   NaN\n",
       "dtype: float64"
      ]
     },
     "execution_count": 43,
     "metadata": {},
     "output_type": "execute_result"
    }
   ],
   "source": [
    "ds[ds.isnull()]"
   ]
  },
  {
   "cell_type": "markdown",
   "metadata": {},
   "source": [
    "#### 데이터 추가"
   ]
  },
  {
   "cell_type": "code",
   "execution_count": 44,
   "metadata": {},
   "outputs": [
    {
     "data": {
      "text/plain": [
       "대구           NaN\n",
       "대전           NaN\n",
       "부산     6841928.0\n",
       "서울    19535794.0\n",
       "인천     5522486.0\n",
       "울산     1129254.0\n",
       "dtype: float64"
      ]
     },
     "execution_count": 44,
     "metadata": {},
     "output_type": "execute_result"
    }
   ],
   "source": [
    "ds[\"울산\"] = 1129254\n",
    "ds"
   ]
  },
  {
   "cell_type": "markdown",
   "metadata": {},
   "source": [
    "#### 데이터 수정"
   ]
  },
  {
   "cell_type": "code",
   "execution_count": 45,
   "metadata": {},
   "outputs": [
    {
     "data": {
      "text/plain": [
       "대구     2466052.0\n",
       "대전           NaN\n",
       "부산     6841928.0\n",
       "서울    19535794.0\n",
       "인천     5522486.0\n",
       "울산     1129254.0\n",
       "dtype: float64"
      ]
     },
     "execution_count": 45,
     "metadata": {},
     "output_type": "execute_result"
    }
   ],
   "source": [
    "ds[\"대구\"] = 2466052\n",
    "ds"
   ]
  },
  {
   "cell_type": "markdown",
   "metadata": {},
   "source": [
    "#### 데이터 삭제"
   ]
  },
  {
   "cell_type": "code",
   "execution_count": 46,
   "metadata": {},
   "outputs": [
    {
     "data": {
      "text/plain": [
       "대구     2466052.0\n",
       "대전           NaN\n",
       "부산     6841928.0\n",
       "서울    19535794.0\n",
       "울산     1129254.0\n",
       "dtype: float64"
      ]
     },
     "execution_count": 46,
     "metadata": {},
     "output_type": "execute_result"
    }
   ],
   "source": [
    "del ds[\"인천\"]\n",
    "ds"
   ]
  },
  {
   "cell_type": "markdown",
   "metadata": {},
   "source": [
    "#### 시리즈 값과 인덱스 이름 지정\n",
    "- `series.name` : Series 데이터의 이름\n",
    "- `series.index.name` : Series 인덱스의 이름"
   ]
  },
  {
   "cell_type": "code",
   "execution_count": 47,
   "metadata": {},
   "outputs": [
    {
     "data": {
      "text/plain": [
       "대구     2466052.0\n",
       "대전           NaN\n",
       "부산     6841928.0\n",
       "서울    19535794.0\n",
       "울산     1129254.0\n",
       "Name: 인구, dtype: float64"
      ]
     },
     "execution_count": 47,
     "metadata": {},
     "output_type": "execute_result"
    }
   ],
   "source": [
    "ds.name='인구'          #series.name : Series 데이터의 이름\n",
    "ds"
   ]
  },
  {
   "cell_type": "code",
   "execution_count": 48,
   "metadata": {},
   "outputs": [
    {
     "data": {
      "text/plain": [
       "지역\n",
       "대구     2466052.0\n",
       "대전           NaN\n",
       "부산     6841928.0\n",
       "서울    19535794.0\n",
       "울산     1129254.0\n",
       "Name: 인구, dtype: float64"
      ]
     },
     "execution_count": 48,
     "metadata": {},
     "output_type": "execute_result"
    }
   ],
   "source": [
    "ds.index.name = '지역'      #series.index.name : Series 인덱스의 이름\n",
    "ds"
   ]
  },
  {
   "cell_type": "code",
   "execution_count": 49,
   "metadata": {},
   "outputs": [
    {
     "data": {
      "text/plain": [
       "지역\n",
       "대구     2466052.0\n",
       "대전           NaN\n",
       "부산     6841928.0\n",
       "서울    19535794.0\n",
       "울산     1129254.0\n",
       "인천     2890451.0\n",
       "제주      506580.0\n",
       "Name: 인구, dtype: float64"
      ]
     },
     "execution_count": 49,
     "metadata": {},
     "output_type": "execute_result"
    }
   ],
   "source": [
    "ds[\"인천\"] = 2890451            #인덱스가 없으면 추가\n",
    "ds[\"제주\"] = 506580\n",
    "ds"
   ]
  },
  {
   "cell_type": "code",
   "execution_count": 50,
   "metadata": {},
   "outputs": [
    {
     "data": {
      "text/plain": [
       "지역\n",
       "대구     2466052.0\n",
       "대전           NaN\n",
       "부산     6841928.0\n",
       "서울    19535794.0\n",
       "울산     1129254.0\n",
       "Name: 인구, dtype: float64"
      ]
     },
     "execution_count": 50,
     "metadata": {},
     "output_type": "execute_result"
    }
   ],
   "source": [
    "ds.head()       #처음부터 5행 표시"
   ]
  },
  {
   "cell_type": "code",
   "execution_count": 51,
   "metadata": {},
   "outputs": [
    {
     "data": {
      "text/plain": [
       "지역\n",
       "부산     6841928.0\n",
       "서울    19535794.0\n",
       "울산     1129254.0\n",
       "인천     2890451.0\n",
       "제주      506580.0\n",
       "Name: 인구, dtype: float64"
      ]
     },
     "execution_count": 51,
     "metadata": {},
     "output_type": "execute_result"
    }
   ],
   "source": [
    "ds.tail()       #마지막부터 5행 표시"
   ]
  },
  {
   "cell_type": "markdown",
   "metadata": {},
   "source": [
    "#### 3. 스칼라 값에서 시리즈 객체 생성\n",
    "- 레이블 표시를 위한 인덱스를 입력"
   ]
  },
  {
   "cell_type": "code",
   "execution_count": 52,
   "metadata": {},
   "outputs": [
    {
     "data": {
      "text/plain": [
       "a    7.0\n",
       "b    7.0\n",
       "c    7.0\n",
       "dtype: float64"
      ]
     },
     "execution_count": 52,
     "metadata": {},
     "output_type": "execute_result"
    }
   ],
   "source": [
    "pd.Series(7., index=['a', 'b', 'c'])        #dtype 실수 (7.)"
   ]
  },
  {
   "cell_type": "code",
   "execution_count": 53,
   "metadata": {},
   "outputs": [
    {
     "data": {
      "text/plain": [
       "a    7\n",
       "b    7\n",
       "c    7\n",
       "dtype: int64"
      ]
     },
     "execution_count": 53,
     "metadata": {},
     "output_type": "execute_result"
    }
   ],
   "source": [
    "pd.Series(7, index=['a', 'b', 'c'])         #dtype 정수"
   ]
  },
  {
   "cell_type": "markdown",
   "metadata": {},
   "source": [
    "#### 4. 튜플 값에서 시리즈 객체 생성\n",
    "- 레이블 표시를 위한 인덱스를 입력"
   ]
  },
  {
   "cell_type": "code",
   "execution_count": 54,
   "metadata": {},
   "outputs": [
    {
     "data": {
      "text/plain": [
       "서울    9904312\n",
       "부산    3448737\n",
       "인천    2890451\n",
       "대구    2466052\n",
       "dtype: int64"
      ]
     },
     "execution_count": 54,
     "metadata": {},
     "output_type": "execute_result"
    }
   ],
   "source": [
    "s = pd.Series((9904312, 3448737, 2890451, 2466052),\n",
    "              index=[\"서울\", \"부산\", \"인천\", \"대구\"])\n",
    "s"
   ]
  }
 ],
 "metadata": {
  "kernelspec": {
   "display_name": "mlpython",
   "language": "python",
   "name": "python3"
  },
  "language_info": {
   "codemirror_mode": {
    "name": "ipython",
    "version": 3
   },
   "file_extension": ".py",
   "mimetype": "text/x-python",
   "name": "python",
   "nbconvert_exporter": "python",
   "pygments_lexer": "ipython3",
   "version": "3.11.9"
  }
 },
 "nbformat": 4,
 "nbformat_minor": 2
}
