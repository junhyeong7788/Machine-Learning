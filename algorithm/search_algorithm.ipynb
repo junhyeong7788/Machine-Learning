{
 "cells": [
  {
   "cell_type": "markdown",
   "metadata": {},
   "source": [
    "# Search Algorithm\n",
    "- 알고리즘은 목표를 찾기 위해 체계적인 규칙이 필요.\n",
    "- 탐색(search) : 상태 공간에서 시작 상태 -> 목표 상태까지의 경로를 찾는 것\n",
    "    - 상태 공간(state space) : 상태들이 모여있는 공간\n",
    "    - 연산자 : 하나의 상태를 다른 상태로 변경한다.\n",
    "    - 탐색에서 중복된 상태를 막기 위하여 OPEN 리스트와 CLOSED 리스트를 사용\n",
    "\n",
    "## Search Algorithm 종류\n",
    "```\n",
    "탐색 알고리즘 --- + --- 맹목적인 탐색\n",
    "                |   |\n",
    "                |   + --- BFS(Breadth-First Search)\n",
    "                |   |\n",
    "                |   + --- DFS(Depth-First Search)\n",
    "                |   |\n",
    "                |   + --- UCS(Uniform Cost Search)\n",
    "                |\n",
    "                + --- 경험적 탐색(Heuristic Search)\n",
    "                      |\n",
    "                      + --- A* Algorithm\n",
    "                      |\n",
    "                      + --- 탐욕적인 탐색\n",
    "```\n",
    "\n",
    "## DFS(Depth-First Search) 알고리즘\n",
    "- DFS (깊이 우선 탐색) : 맹목적 탐색방법의 하나로 탐색트리의 최근에 첨가된 노드를 선택하고, 이 노드에 적용 가능한 동작자 중 하나를 적용하여 트리에 다음 수준의 한 개의 자식노드를 첨가하며, 첨가된 자식 노드가 목표 노드일 때까지 앞의 자식 노드의 첨가 과정을 반복해 가는 방식\n",
    "\n",
    "- 장점\n",
    "    - 단지 현 경로상의 노드들만을 기억하면 되므로 저장공간의 수요가 비교적 적다\n",
    "    - 목표 노드가 깊은 단계에 있을 경우 해를 빨리 구할 수 있다.\n",
    "- 단점 \n",
    "    - 해가 없는 경로에 깊이 빠질 가능성이 있다. 따라서 실제의 경우 미리 지정한 임의의 깊이까지만 탐색하고 목표 노드를 발견하지 못하면 다음의 경로를 따라 탐색하는 방법이 유용\n",
    "    - 얻어진 해가 최단 경로가 된다는 보장이 없다. 이는 목표에 이르는 경로가 다수인 문제에 대해 깊이 우선 탐색은 해에 다다르면 탐색을 끝내버리므로, 이때 얻어진 해는 최적이 아닐 수 있다는 의미\n",
    "\n",
    "- 만약 각 상태당 가능한 행동의 수가 b개이고 최대 깊이가 D라면\n",
    "    - 검색 공간 : $O(D)$\n",
    "    - 시간 복잡도 : 최악의 경우 $O(b^D)$\n"
   ]
  },
  {
   "cell_type": "code",
   "execution_count": 1,
   "metadata": {},
   "outputs": [],
   "source": [
    "import numpy as np"
   ]
  },
  {
   "cell_type": "markdown",
   "metadata": {},
   "source": [
    "- open list : 트리에서 열렸지만 아직 탐색되지 않은 상태들의 목록\n",
    "- closed list : 이미 탐색이 끝난 상태들의 목록"
   ]
  },
  {
   "cell_type": "code",
   "execution_count": 2,
   "metadata": {},
   "outputs": [
    {
     "name": "stdout",
     "output_type": "stream",
     "text": [
      "0. open = [];\tclosed = []\n"
     ]
    }
   ],
   "source": [
    "tree  = {\n",
    "    'A': ['B', 'C'],\n",
    "    'B': ['D', 'E'],\n",
    "    'C': ['F', 'G'],\n",
    "    'D': ['H', 'I'],\n",
    "    'E': ['I'],\n",
    "    'F': ['U'],\n",
    "    'G': [],\n",
    "    'H': [],\n",
    "    'I': [],\n",
    "    'U': []\n",
    "}\n",
    "\n",
    "initialState = 'A'\n",
    "goalState = 'U' # 찾아야하는 값\n",
    "\n",
    "open_list = []\n",
    "closed_list = []\n",
    "\n",
    "cnt = 0\n",
    "print(f'{cnt}. open = {open_list};\\tclosed = {closed_list}')"
   ]
  },
  {
   "cell_type": "code",
   "execution_count": 3,
   "metadata": {},
   "outputs": [
    {
     "name": "stdout",
     "output_type": "stream",
     "text": [
      "1. open = ['A'];\t closed = []\n"
     ]
    }
   ],
   "source": [
    "open_list.append(initialState) # 첫 검색 노드가 open_list에 들어간다.\n",
    "cnt += 1 # count 증가\n",
    "print(f'{cnt}. open = {open_list};\\t closed = {closed_list}')"
   ]
  },
  {
   "cell_type": "code",
   "execution_count": 4,
   "metadata": {},
   "outputs": [
    {
     "name": "stdout",
     "output_type": "stream",
     "text": [
      "2. open = ['B', 'C'];\t closed = ['A']\n",
      "3. open = ['D', 'E', 'C'];\t closed = ['A', 'B']\n",
      "4. open = ['H', 'I', 'E', 'C'];\t closed = ['A', 'B', 'D']\n",
      "5. open = ['I', 'E', 'C'];\t closed = ['A', 'B', 'D', 'H']\n",
      "6. open = ['E', 'C'];\t closed = ['A', 'B', 'D', 'H', 'I']\n",
      "7. open = ['C'];\t closed = ['A', 'B', 'D', 'H', 'I', 'E']\n",
      "8. open = ['F', 'G'];\t closed = ['A', 'B', 'D', 'H', 'I', 'E', 'C']\n",
      "9. open = ['U', 'G'];\t closed = ['A', 'B', 'D', 'H', 'I', 'E', 'C', 'F']\n",
      "10. 목표 노드 U 발견!\n"
     ]
    }
   ],
   "source": [
    "while (open_list != []): # 비어있지 않을때\n",
    "    cnt += 1\n",
    "\n",
    "    X = open_list.pop(0) # pop() 연산, A를 꺼내서 비워준다.\n",
    "\n",
    "    if X == goalState: # 목표 노드 발견하면 break\n",
    "        print(f'{cnt}. 목표 노드 {goalState} 발견!')\n",
    "        break \n",
    "    else:\n",
    "        child = tree[X] \n",
    "        closed_list.append(X)\n",
    "        for c in child:\n",
    "            if (c in open_list) or (c in closed_list):\n",
    "                child.remove(c)\n",
    "\n",
    "        open_list = child + open_list # child를 먼저 써서 open_list내의 새로운 탐색 노드를 맨 앞에 추가해준다.\n",
    "        \n",
    "    print(f'{cnt}. open = {open_list};\\t closed = {closed_list}')"
   ]
  },
  {
   "cell_type": "markdown",
   "metadata": {},
   "source": [
    "- `pop()`: 인덱스 없이 호출하면 리스트의 마지막 항목을 제거하고 그 값을 반환\n",
    "    - `pop(index)`: 인덱스를 지정하면 해당 인덱스의 항목을 제거하고 그 값을 반환\n",
    "- `child = tree[X]` : 현재 노드 X에 대한 자식 노드를 tree라는 딕셔너리(또는 유사한 자료구조)에서 가져옴\n",
    "\n",
    "- ```python\n",
    "  for c in child:\n",
    "              if (c in open_list) or (c in closed_list):\n",
    "                  child.remove(c)\n",
    "  ```\n",
    "  - child 리스트를 반복하면서, 각 자식 노드 c가 이미 open_list나 closed_list에 있는지 확인하고 있다면 child 리스트에서 제거"
   ]
  },
  {
   "cell_type": "markdown",
   "metadata": {},
   "source": [
    "## BFS (Breadth-First Search) 알고리즘\n",
    "- 너비 우선 탐색 : 명목적 탐색 방법의 하나로 시작 정점을 방문한 후 시작 정점에 인접한 모든 정점들을 우선 방문하는 방법\n",
    "- 더이상 방문하지 않은 정점이 없을 떄까지 방문하지 않은 모든 정점들에 대해서도 너비 우선 검색을 적용\n",
    "- open list는 queue를 사용해야만 레벨 순서대로 접근 가능\n",
    "\n",
    "- 장점\n",
    "    - 출발 노드에서 목표 노드까지의 최단 길이 경로를 보장\n",
    "- 단점\n",
    "    - 경로가 매우 길 경우 : 탐색 가지가 급격히 증가함에 따라 보다 많은 기억 공간을 필요로 함\n",
    "    - 해가 존재하지 않는다면 유한 그래프의 경우에는 모든 그래프를 탐색한 후에 실패로 끝난다.\n",
    "    - 무한 그래프의 경우에는 결코 해를 찾지도 못하고, 끝내지도 못한다."
   ]
  },
  {
   "cell_type": "code",
   "execution_count": 5,
   "metadata": {},
   "outputs": [
    {
     "name": "stdout",
     "output_type": "stream",
     "text": [
      "0. open = [];\tclosed = []\n",
      "1. open = ['A'];\t closed = []\n"
     ]
    }
   ],
   "source": [
    "tree  = {\n",
    "    'A': ['B', 'C'],\n",
    "    'B': ['D', 'E'],\n",
    "    'C': ['F', 'G'],\n",
    "    'D': ['H', 'I'],\n",
    "    'E': ['I'],\n",
    "    'F': ['U'],\n",
    "    'G': [],\n",
    "    'H': [],\n",
    "    'I': [],\n",
    "    'U': []\n",
    "}\n",
    "\n",
    "initialState = 'A'\n",
    "goalState = 'U' # 찾아야하는 값\n",
    "\n",
    "open_list = []\n",
    "closed_list = []\n",
    "\n",
    "cnt = 0\n",
    "print(f'{cnt}. open = {open_list};\\tclosed = {closed_list}')\n",
    "\n",
    "open_list.append(initialState) # 첫 검색 노드가 open_list에 들어간다.\n",
    "cnt += 1 # count 증가\n",
    "print(f'{cnt}. open = {open_list};\\t closed = {closed_list}')"
   ]
  },
  {
   "cell_type": "code",
   "execution_count": 6,
   "metadata": {},
   "outputs": [
    {
     "name": "stdout",
     "output_type": "stream",
     "text": [
      "2. open = ['B', 'C'];\t closed = ['A']\n",
      "3. open = ['C', 'D', 'E'];\t closed = ['A', 'B']\n",
      "4. open = ['D', 'E', 'F', 'G'];\t closed = ['A', 'B', 'C']\n",
      "5. open = ['E', 'F', 'G', 'H', 'I'];\t closed = ['A', 'B', 'C', 'D']\n",
      "6. open = ['F', 'G', 'H', 'I'];\t closed = ['A', 'B', 'C', 'D', 'E']\n",
      "7. open = ['G', 'H', 'I', 'U'];\t closed = ['A', 'B', 'C', 'D', 'E', 'F']\n",
      "8. open = ['H', 'I', 'U'];\t closed = ['A', 'B', 'C', 'D', 'E', 'F', 'G']\n",
      "9. open = ['I', 'U'];\t closed = ['A', 'B', 'C', 'D', 'E', 'F', 'G', 'H']\n",
      "10. open = ['U'];\t closed = ['A', 'B', 'C', 'D', 'E', 'F', 'G', 'H', 'I']\n",
      "11. 목표 노드 U 발견!\n"
     ]
    }
   ],
   "source": [
    "while (open_list != []): \n",
    "    cnt += 1\n",
    "\n",
    "    X = open_list.pop(0) \n",
    "\n",
    "    if X == goalState: \n",
    "        print(f'{cnt}. 목표 노드 {goalState} 발견!')\n",
    "        break \n",
    "    else:\n",
    "        child = tree[X] \n",
    "        closed_list.append(X)\n",
    "        for c in child:\n",
    "            if (c in open_list) or (c in closed_list):\n",
    "                child.remove(c)\n",
    "\n",
    "        open_list += child # open_list = open_list + child, 너비우선탐색\n",
    "        \n",
    "    print(f'{cnt}. open = {open_list};\\t closed = {closed_list}')"
   ]
  },
  {
   "cell_type": "markdown",
   "metadata": {},
   "source": [
    "## 8-puzzle Problem"
   ]
  },
  {
   "cell_type": "code",
   "execution_count": 7,
   "metadata": {},
   "outputs": [],
   "source": [
    "import queue"
   ]
  },
  {
   "cell_type": "code",
   "execution_count": 10,
   "metadata": {},
   "outputs": [],
   "source": [
    "# 상태를 나타내는 클래스, f(n) 값을 저장한다.\n",
    "class State: \n",
    "    def __init__(self, board, goal, moves=0):\n",
    "        self.board = board # 보드 상태 저장\n",
    "        self.moves = moves # 단순 카운트\n",
    "        self.goal = goal # 최종 목표 상태\n",
    "\n",
    "    # 위치 i1과 i2를 교환하여 새로운 상태를 반환한다.\n",
    "    def get_new_board(self, i1, i2, moves):\n",
    "        new_board = self.board[:]\n",
    "        new_board[i1], new_board[i2] = new_board[i2], new_board[i1]\n",
    "        return State(new_board, self.goal, moves)\n",
    "\n",
    "    # 자식 노드를 확장하여 리스트에 저장하여 반환한다.\n",
    "    def expand(self, moves):\n",
    "        result = [] # child Node\n",
    "        i = self.board.index(0)  # 숫자 0(빈칸)의 위치를 찾는다.\n",
    "        if not i in [0, 1, 2]:  # UP 연산자\n",
    "            result.append(self.get_new_board(i, i-3, moves))\n",
    "        if not i in [0, 3, 6]:  # LEFT 연산자, [0, 3, 6]일때는 제외\n",
    "            result.append(self.get_new_board(i, i-1, moves))\n",
    "        if not i in [2, 5, 8]:  # RIGHT 연산자\n",
    "            result.append(self.get_new_board(i, i+1, moves))\n",
    "        if not i in [6, 7, 8]:  # DOWN 연산자\n",
    "            result.append(self.get_new_board(i, i+3, moves))\n",
    "        return result\n",
    "        \n",
    "    # 객체를 쉽게 출력할 때 사용한다.\n",
    "    def __str__(self):\n",
    "        return str(self.board[:3]) + \"\\n\" +\\\n",
    "        str(self.board[3:6]) + \"\\n\" +\\\n",
    "        str(self.board[6:]) + \"\\n\" +\\\n",
    "        \"------------------\"\n",
    "\n",
    "    def __eq__(self, other):\n",
    "        return self.board == other.board"
   ]
  },
  {
   "cell_type": "code",
   "execution_count": 11,
   "metadata": {},
   "outputs": [
    {
     "name": "stdout",
     "output_type": "stream",
     "text": [
      "[1, 2, 3]\n",
      "[0, 4, 6]\n",
      "[7, 5, 8]\n",
      "------------------\n",
      "[0, 2, 3]\n",
      "[1, 4, 6]\n",
      "[7, 5, 8]\n",
      "------------------\n",
      "[1, 2, 3]\n",
      "[4, 0, 6]\n",
      "[7, 5, 8]\n",
      "------------------\n",
      "[1, 2, 3]\n",
      "[7, 4, 6]\n",
      "[0, 5, 8]\n",
      "------------------\n",
      "[2, 0, 3]\n",
      "[1, 4, 6]\n",
      "[7, 5, 8]\n",
      "------------------\n",
      "[1, 0, 3]\n",
      "[4, 2, 6]\n",
      "[7, 5, 8]\n",
      "------------------\n",
      "[1, 2, 3]\n",
      "[4, 6, 0]\n",
      "[7, 5, 8]\n",
      "------------------\n",
      "[1, 2, 3]\n",
      "[4, 5, 6]\n",
      "[7, 0, 8]\n",
      "------------------\n",
      "[1, 2, 3]\n",
      "[7, 4, 6]\n",
      "[5, 0, 8]\n",
      "------------------\n",
      "[2, 3, 0]\n",
      "[1, 4, 6]\n",
      "[7, 5, 8]\n",
      "------------------\n",
      "[2, 4, 3]\n",
      "[1, 0, 6]\n",
      "[7, 5, 8]\n",
      "------------------\n",
      "[0, 1, 3]\n",
      "[4, 2, 6]\n",
      "[7, 5, 8]\n",
      "------------------\n",
      "[1, 3, 0]\n",
      "[4, 2, 6]\n",
      "[7, 5, 8]\n",
      "------------------\n",
      "[1, 2, 0]\n",
      "[4, 6, 3]\n",
      "[7, 5, 8]\n",
      "------------------\n",
      "[1, 2, 3]\n",
      "[4, 6, 8]\n",
      "[7, 5, 0]\n",
      "------------------\n",
      "[1, 2, 3]\n",
      "[4, 5, 6]\n",
      "[0, 7, 8]\n",
      "------------------\n",
      "[1, 2, 3]\n",
      "[4, 5, 6]\n",
      "[7, 8, 0]\n",
      "------------------\n",
      "탐색 성공\n"
     ]
    }
   ],
   "source": [
    "puzzle = [1, 2, 3,\n",
    "          0, 4, 6,\n",
    "          7, 5, 8]\n",
    "\n",
    "goal = [1, 2, 3,\n",
    "        4, 5, 6,\n",
    "        7, 8, 0]\n",
    "\n",
    "# open 리스트\n",
    "open_queue = []\n",
    "open_queue.append(State(puzzle, goal))\n",
    "\n",
    "closed_queue = []\n",
    "moves = 0\n",
    "\n",
    "while len(open_queue) != 0:\n",
    "    current = open_queue.pop(0)  # OPEN 리스트의 앞에서 삭제\n",
    "    print(current)\n",
    "    if current.board == goal:\n",
    "        print(\"탐색 성공\")\n",
    "        break\n",
    "    \n",
    "    moves = current.moves + 1\n",
    "    closed_queue.append(current)\n",
    "    for state in current.expand(moves):\n",
    "        if (state in closed_queue) or (state in open_queue):  # 이미 생성한 노드이면 노드를 버린다.\n",
    "            continue\n",
    "        else:\n",
    "            open_queue.append(state)  # OPEN 리스트의 끝에 추가"
   ]
  },
  {
   "cell_type": "markdown",
   "metadata": {},
   "source": [
    "## 참고 : 매직 메소드\n",
    "- 스페셜 메소드(Special Method) 라고도 불리며, 사용자가 만든 객체나 클래스에 대한 연산을 다루기 위해 파이썬에 내장된 메소드\n",
    "- 일반적으로 양쪽에 두 개의 언더스코어 '_'로 감싼 형태 사용\n",
    "- 기본 매직 메소드 : `__init__()`\n",
    "    - 클래스를 생성할 때 자동으로 호출되며, 일반적으로 클래스 변수를 선언하기 위해 사용\n",
    "- `__str__()` : 클래스를 출력할 때 호출되는 메소드\n",
    "- `__add__()` : 덧셈 연산자를 사용할 때 호출되는 메소드\n"
   ]
  },
  {
   "cell_type": "code",
   "execution_count": 35,
   "metadata": {},
   "outputs": [
    {
     "name": "stdout",
     "output_type": "stream",
     "text": [
      "<__main__.Person object at 0x10a18c690>\n"
     ]
    }
   ],
   "source": [
    "# ex\n",
    "class Person:\n",
    "    \n",
    "    def __init__(self):\n",
    "        self.age = 20\n",
    "        self.income = 100\n",
    "\n",
    "p1 = Person()\n",
    "print(p1)"
   ]
  },
  {
   "cell_type": "code",
   "execution_count": 36,
   "metadata": {},
   "outputs": [
    {
     "name": "stdout",
     "output_type": "stream",
     "text": [
      "age: 20\n",
      "income: 100\n"
     ]
    }
   ],
   "source": [
    "class Person:\n",
    "    \n",
    "    def __init__(self):\n",
    "        self.age = 20\n",
    "        self.income = 100\n",
    "\n",
    "    def __str__(self):\n",
    "        return 'age: '  + str(self.age) + '\\n' +\\\n",
    "               'income: ' + str(self.income)\n",
    "    \n",
    "p1 = Person()\n",
    "print(p1)"
   ]
  },
  {
   "cell_type": "code",
   "execution_count": 39,
   "metadata": {},
   "outputs": [
    {
     "name": "stdout",
     "output_type": "stream",
     "text": [
      "300\n"
     ]
    }
   ],
   "source": [
    "class Person:\n",
    "    \n",
    "    def __init__(self, age, income): # age, income 매개변수로 추가\n",
    "        self.age = age\n",
    "        self.income = income\n",
    "\n",
    "    def __str__(self):\n",
    "        return 'age: '  + str(self.age) + '\\n' +\\\n",
    "               'income: ' + str(self.income)\n",
    "    \n",
    "    def __add__(self, other): # other 매개변수로 추가\n",
    "        return self.income + other.income\n",
    "    \n",
    "p1 = Person(20, 100)\n",
    "p2 = Person(30, 200)\n",
    "print(p1 + p2)"
   ]
  },
  {
   "cell_type": "markdown",
   "metadata": {},
   "source": [
    "|...| DFS | BFS |\n",
    "| :---: | :---: | :---: |\n",
    "| 개념 | 가장 깊이 내려간 뒤, 갈 곳이 없을 경우 옆으로 탐색 | 인접한 노드를 먼저 탐색 |\n",
    "| 구현 방법 | 스택 or 재귀 | 큐 |\n",
    "| 문제 적용 | 가능한 모든 해 탐색, 사이클 검출 문제 | 최단 거리 문제, 웹 크롤링 |\n",
    "| 검색 속도 | 검색 대상 그래프가 너무 크면 DFS | 검색 대상의 규모가 크지 않을 경우 BFS |\n"
   ]
  },
  {
   "cell_type": "markdown",
   "metadata": {},
   "source": [
    "## Heuristic Search\n",
    "\n",
    "- 특정 문제에 대해 정보, 경험, 지식이 제공된다면, 우리는 그러한 장점들을 문제에 적용하여 검색 알고리즘을 더 빠르게 만들 수 있다.\n",
    "    - 목표 노드에 대한 경험적인 정보를 사용하는 방법을 `경험적 탐색(Heuristic Search)`이라고 한다.\n",
    "    - 문제에 대한 정보를 `휴리스틱 정보(Heuristic Information)`라고 한다.\n",
    "\n",
    "### Hill-Climbing Search (언덕 등반 탐색)\n",
    "- 평가함수를 사용하여 평가함수 값을 증가(감소)시키는 방향으로 나가는 탐색 전략\n",
    "- `평가 함수` : 각 노드에 대해 얼마나 좋은 선택인지를 평가하는 함수\n",
    "\n",
    "- 문제 : 시작 노드에서 목표 노드까지 가는 비용을 고려하지 않기 때문에 탐색 비용이 크다.\n",
    "    - 탐색 과정이 길어지면 탐색 비용 매우 커진다\n",
    "    - 지역 최소 문제가 있다.\n",
    "\n",
    "    - Local Minima Problem (지역 최소 문제)\n",
    "        - 언덕 등반 탐색은 지역 최소 문제에 빠질 수 있다.\n",
    "        - 지역 최소 문제란, 어떤 노드에서 더 이상 이동할 수 없는 상태에 도달했을 때, 이 노드가 최적의 해가 아닐 수 있다는 문제\n",
    "        - 이 문제를 해결하기 위해, 언덕 등반 탐색을 여러 번 실행하거나, 다른 휴리스틱 정보를 사용하는 방법이 있다."
   ]
  },
  {
   "cell_type": "markdown",
   "metadata": {},
   "source": [
    "### A* Search\n",
    "- A* 알고리즘은 언덕 등반 탐색의 문제점을 해결하기 위해 만들어진 알고리즘\n",
    "- 주요 특징으로는 주어진 시작 노드에서 목표 노드까지 최단 경로를 효과적으로 구할 수 있다.\n",
    "    - 주로 게임에서 특정 유닛을 목표 지점으로 이동 시킬 때 사용하는 알고리즘\n",
    "- A* 알고리즘은 두 가지 정보를 사용하여 `f(n)` 값을 계산\n",
    "    - `h(n)` : 현재 노드에서 목표 노드까지의 거리\n",
    "        - 휴리스틱 함수(Heuristic Function)라고 부르며, 이 함수의 설계 방법에 따라 알고리즘 성능이 결정\n",
    "    - `g(n)` : 시작 노드에서 현재 노드까지의 비용 (경로 가중치)\n",
    "    - `f(n) = g(n) + h(n)` : 두 정보를 합친 값"
   ]
  },
  {
   "cell_type": "code",
   "execution_count": 20,
   "metadata": {},
   "outputs": [],
   "source": [
    "# 상태를 나타내는 클래스, f(n) 값을 저장한다.\n",
    "class State: \n",
    "    def __init__(self, board, goal, moves=0):\n",
    "        self.board = board # 보드 상태 저장\n",
    "        self.moves = moves # 단순 카운트\n",
    "        self.goal = goal # 최종 목표 상태\n",
    "\n",
    "    # 위치 i1과 i2를 교환하여 새로운 상태를 반환한다.\n",
    "    def get_new_board(self, i1, i2, moves):\n",
    "        new_board = self.board[:]\n",
    "        new_board[i1], new_board[i2] = new_board[i2], new_board[i1]\n",
    "        return State(new_board, self.goal, moves)\n",
    "\n",
    "    # 자식 노드를 확장하여 리스트에 저장하여 반환한다.\n",
    "    def expand(self, moves):\n",
    "        result = [] # child Node\n",
    "        i = self.board.index(0)  # 빈칸(0 비어있는 위치) 찾는다.\n",
    "        if not i in [0, 1, 2]:  # UP 연산자\n",
    "            result.append(self.get_new_board(i, i-3, moves))\n",
    "        if not i in [0, 3, 6]:  # LEFT 연산자, [0, 3, 6]일때는 제외\n",
    "            result.append(self.get_new_board(i, i-1, moves))\n",
    "        if not i in [2, 5, 8]:  # RIGHT 연산자\n",
    "            result.append(self.get_new_board(i, i+1, moves))\n",
    "        if not i in [6, 7, 8]:  # DOWN 연산자\n",
    "            result.append(self.get_new_board(i, i+3, moves))\n",
    "        return result\n",
    "    \n",
    "    # f(n)을 계산하여 반환한다.\n",
    "    def f(self):\n",
    "        return self.h() + self.g()\n",
    "\n",
    "    # 휴리스틱 함수 값 h(n)을 계산하여 반환한다.\n",
    "    # 현재 상태에서 목표 상태까지 몇 개의 타일이 잘못된 위치에 있는지를 리스트 컴프리헨션으로 계산한다.\n",
    "    # 현재 제 위치에 있지 않은 타일의 개수를 리스트 함축으로 계산\n",
    "    def h(self):\n",
    "        return sum([1 if self.board[i] != self.goal[i] else 0 for i in range(8)])\n",
    "\n",
    "    # 시작 노드부터의 경로를 반환한다.\n",
    "    def g(self):\n",
    "        return self.moves\n",
    "\n",
    "    # 상태와 상태를 비교하기 위하여 less than 연산자를 정의한다.\n",
    "    def __lt__(self, other):\n",
    "        return self.f() < other.f()\n",
    "\n",
    "    def __str__(self):\n",
    "        return \"------------------f(n)=\"+str(self.f())+\"\\n\"+\\\n",
    "        \"------------------h(n)=\"+str(self.h())+\"\\n\"+\\\n",
    "        \"------------------g(n)=\"+str(self.g())+\"\\n\"+\\\n",
    "        str(self.board[:3]) + \"\\n\" +\\\n",
    "        str(self.board[3:6]) + \"\\n\" +\\\n",
    "        str(self.board[6:]) + \"\\n\" +\\\n",
    "        \"------------------\"\n",
    "        \n",
    "    def __eq__(self, other):\n",
    "        return self.board == other.board"
   ]
  },
  {
   "cell_type": "code",
   "execution_count": 21,
   "metadata": {},
   "outputs": [],
   "source": [
    "# 초기 상태\n",
    "puzzle = [1, 2, 3,\n",
    "          0, 4, 6,\n",
    "          7, 5, 8]\n",
    "\n",
    "# 목표 상태\n",
    "goal = [1, 2, 3,\n",
    "        4, 5, 6,\n",
    "        7, 8, 0]\n",
    "\n",
    "# open 리스트는 우선순위 큐로 생성\n",
    "open_queue = queue.PriorityQueue()\n",
    "open_queue.put(State(puzzle, goal))\n",
    "closed_queue = []\n",
    "moves = 0"
   ]
  },
  {
   "cell_type": "code",
   "execution_count": 22,
   "metadata": {},
   "outputs": [
    {
     "name": "stdout",
     "output_type": "stream",
     "text": [
      "------------------f(n)=3\n",
      "------------------h(n)=3\n",
      "------------------g(n)=0\n",
      "[1, 2, 3]\n",
      "[0, 4, 6]\n",
      "[7, 5, 8]\n",
      "------------------\n",
      "------------------f(n)=3\n",
      "------------------h(n)=2\n",
      "------------------g(n)=1\n",
      "[1, 2, 3]\n",
      "[4, 0, 6]\n",
      "[7, 5, 8]\n",
      "------------------\n",
      "------------------f(n)=3\n",
      "------------------h(n)=1\n",
      "------------------g(n)=2\n",
      "[1, 2, 3]\n",
      "[4, 5, 6]\n",
      "[7, 0, 8]\n",
      "------------------\n",
      "------------------f(n)=3\n",
      "------------------h(n)=0\n",
      "------------------g(n)=3\n",
      "[1, 2, 3]\n",
      "[4, 5, 6]\n",
      "[7, 8, 0]\n",
      "------------------\n",
      "탐색 성공\n"
     ]
    }
   ],
   "source": [
    "while not open_queue.empty():\n",
    "    current = open_queue.get()\n",
    "    print(current)\n",
    "    if current.board == goal:\n",
    "        print(\"탐색 성공\")\n",
    "        break\n",
    "    moves = current.moves + 1\n",
    "    for state in current.expand(moves):\n",
    "        if state not in closed_queue:\n",
    "            open_queue.put(state)\n",
    "    closed_queue.append(current)\n",
    "else:\n",
    "    print('탐색 실패')"
   ]
  },
  {
   "cell_type": "markdown",
   "metadata": {},
   "source": [
    "#### Basic Queue"
   ]
  },
  {
   "cell_type": "code",
   "execution_count": 16,
   "metadata": {},
   "outputs": [
    {
     "data": {
      "text/plain": [
       "1"
      ]
     },
     "execution_count": 16,
     "metadata": {},
     "output_type": "execute_result"
    }
   ],
   "source": [
    "data_queue = queue.Queue()\n",
    "\n",
    "data_queue.put(\"abc\")\n",
    "data_queue.put(1)\n",
    "\n",
    "data_queue.qsize() # 2\n",
    "data_queue.get() # abc -> 제일 먼저 인서트된 데이터 출력\n",
    "\n",
    "data_queue.qsize() # 1 -> 9번줄에서 abc가 빠져나갔기 때문\n",
    "data_queue.get() # 1 출력"
   ]
  },
  {
   "cell_type": "markdown",
   "metadata": {},
   "source": [
    "#### LifoQueue"
   ]
  },
  {
   "cell_type": "code",
   "execution_count": 23,
   "metadata": {},
   "outputs": [
    {
     "data": {
      "text/plain": [
       "'abc'"
      ]
     },
     "execution_count": 23,
     "metadata": {},
     "output_type": "execute_result"
    }
   ],
   "source": [
    "data_queue = queue.LifoQueue()\n",
    "\n",
    "data_queue.put(\"abc\")\n",
    "data_queue.put(1)\n",
    "\n",
    "data_queue.qsize() # 2\n",
    "data_queue.get() # 1 -> LIFO 구조이기 때문에 1이 먼저 출력\n",
    "\n",
    "data_queue.qsize() # 1 -> 9번줄에서 1이 빠져나갔기 때문\n",
    "data_queue.get() # abc 출력"
   ]
  },
  {
   "cell_type": "markdown",
   "metadata": {},
   "source": [
    "#### PriorityQueue"
   ]
  },
  {
   "cell_type": "code",
   "execution_count": 24,
   "metadata": {},
   "outputs": [
    {
     "data": {
      "text/plain": [
       "(10, 'abc')"
      ]
     },
     "execution_count": 24,
     "metadata": {},
     "output_type": "execute_result"
    }
   ],
   "source": [
    "data_queue = queue.PriorityQueue()\n",
    "\n",
    "data_queue.put((10, \"abc\"))  # 우선순위를 포함하기 위해 튜플로 인서트 (우선순위, value)\n",
    "data_queue.put((5, 1))\n",
    "data_queue.put((15, \"ef\"))\n",
    "\n",
    "data_queue.qsize()  # 3 -> 데이터는 3개\n",
    "data_queue.get()  # (5, 1) -> 우선순위가 가장 낮은 데이터 추출\n",
    "\n",
    "data_queue.qsize()  # 2 -> (5, 1)가 빠져나가기 때문\n",
    "data_queue.get()  # (10, \"abc\") -> 두 번째 우선순위"
   ]
  }
 ],
 "metadata": {
  "kernelspec": {
   "display_name": "mlpython",
   "language": "python",
   "name": "python3"
  },
  "language_info": {
   "codemirror_mode": {
    "name": "ipython",
    "version": 3
   },
   "file_extension": ".py",
   "mimetype": "text/x-python",
   "name": "python",
   "nbconvert_exporter": "python",
   "pygments_lexer": "ipython3",
   "version": "3.11.9"
  }
 },
 "nbformat": 4,
 "nbformat_minor": 2
}
