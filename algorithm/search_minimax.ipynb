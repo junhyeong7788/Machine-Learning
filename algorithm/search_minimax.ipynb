{
 "cells": [
  {
   "cell_type": "markdown",
   "metadata": {},
   "source": [
    "## search_algorithm (Minimax with Alpha-Beta Pruning)\n",
    "- 미니맥스 알고리즘 이해\n",
    "- 알파-베타 가지치기 알고리즘 이해\n",
    "- Goal : Find the **optimal move** to win in the game of Tic-Tac-Toe(or chess) \n",
    "---\n",
    "\n",
    "### Minimax Algorithm\n",
    "- A game of tic-tac-toe between two players, \"MAX\" and \"MIN\"\n",
    "    - Maximizing player ('X') : 가능한 최고 점수를 얻기 위해 노력, 상대가 최선의 수를 둘 것이라고 가정하고 최적의 수를 계산\n",
    "    - Minimizing player ('O') : 가능한 최저 점수를 얻기 위해 노력, 상대가 최선의 수를 둘 것이라고 가정하고 최적의 수를 계산\n",
    "- 각 플레이어가 상대방의 최선의 움직임을 고려하여 자신의 최적의 움직임을 선택하는 결정 규칙을 제공"
   ]
  },
  {
   "cell_type": "markdown",
   "metadata": {},
   "source": [
    "- 사용된 함수 정보\n",
    "    - `draw(game_board)`: 게임 보드를 시각적으로 출력\n",
    "\t- `empty_cells(game_board)`: 현재 보드에서 빈 칸의 인덱스 리스트를 반환\n",
    "\t- `game_over(game_board)`: 승리 조건이 충족되었는지 또는 무승부인지 확인\n",
    "\t- `minimax(board, depth, maxPlayer)`: 미니맥스 알고리즘을 사용하여 최적의 수를 계산\n",
    "\t- `move(x, player)`: 지정된 위치 x에 플레이어의 마크를 둔다.\n",
    "\t- `check_win(board, player)`: 해당 플레이어가 승리했는지 확인"
   ]
  },
  {
   "cell_type": "markdown",
   "metadata": {},
   "source": [
    "### python (minimax : tic-tac-toe)\n"
   ]
  },
  {
   "cell_type": "code",
   "execution_count": 83,
   "metadata": {},
   "outputs": [
    {
     "data": {
      "text/plain": [
       "['O', 'X', ' ', ' ', ' ', 'O', 'X', ' ', ' ']"
      ]
     },
     "execution_count": 83,
     "metadata": {},
     "output_type": "execute_result"
    }
   ],
   "source": [
    "# initialize game board\n",
    "# 보드는 1차원 리스트, 게임 보드 초기화\n",
    "\n",
    "#game_board = [' ' for _ in range(9)]\n",
    "#game_board = [' ', ' ', ' ',\n",
    "#              ' ', ' ', ' ',\n",
    "#              ' ', ' ', ' ']\n",
    "\n",
    "game_board = ['O', 'X', ' ',\n",
    "              ' ', ' ', 'O',\n",
    "              'X', ' ', ' ']\n",
    "\n",
    "# 새로운 테스트용 게임 보드\n",
    "# game_board = ['O', 'X', 'O',\n",
    "#               'X', 'X', ' ',\n",
    "#               'O', ' ', ' ']\n",
    "\n",
    "game_board"
   ]
  },
  {
   "cell_type": "code",
   "execution_count": 84,
   "metadata": {},
   "outputs": [],
   "source": [
    "# Draw game board\n",
    "# 게임 보드 출력 함수\n",
    "def draw(board): # 매개변수 : 현재 게임 보드 상태\n",
    "    for i, cell in enumerate(board):\n",
    "        if i % 3 == 0:\n",
    "            print('\\n----------------')\n",
    "        print('|', cell , '|', end='')\n",
    "    print('\\n----------------')"
   ]
  },
  {
   "cell_type": "code",
   "execution_count": 85,
   "metadata": {},
   "outputs": [],
   "source": [
    "# 빈칸 찾기 함수\n",
    "def empty_cells(board): # 매개변수 : 현재 게임 보드 상태\n",
    "    cells = []\n",
    "    for x, cell in enumerate(board):\n",
    "        if cell == ' ': # 칸이 공백인 경우,\n",
    "            cells.append(x) # 해당 인덱스를 cells리스트에 추가\n",
    "    return cells"
   ]
  },
  {
   "cell_type": "code",
   "execution_count": 86,
   "metadata": {},
   "outputs": [],
   "source": [
    "# 유효한 이동 확인 함수\n",
    "def valid_move(x): # 매개변수 x : 플레이어가 두고자 하는 칸의 인덱스\n",
    "    return x in empty_cells(game_board)\n",
    "\n",
    "# 말 놓기 함수\n",
    "def move(x, player): # x : 말을 놓을 위치의 인덱스, player : 플레이어의 말 ( X 또는 O )\n",
    "    if valid_move(x):\n",
    "        game_board[x] = player # 유효하다면 보드의 해당 위치에 플레이어의 말을 놓는다.\n",
    "        return True\n",
    "    return False"
   ]
  },
  {
   "cell_type": "code",
   "execution_count": 87,
   "metadata": {},
   "outputs": [],
   "source": [
    "# 보드 평가 함수\n",
    "# 현재 보드 상태를 평가하여 승자를 판단\n",
    "def evaluate(board): \n",
    "    if check_win(board, 'X'):\n",
    "        return 1\n",
    "    elif check_win(board, 'O'):\n",
    "        return -1\n",
    "    else:\n",
    "        return 0"
   ]
  },
  {
   "cell_type": "code",
   "execution_count": 88,
   "metadata": {},
   "outputs": [],
   "source": [
    "# Define game over condition (the goal of the game)\n",
    "# 1차원 리스트에서 동일한 문자가 수직선이나 수평선, 대각선으로 나타나면\n",
    "# 승리한 것으로 한다.\n",
    "\n",
    "# 승리 조건 확인 함수\n",
    "def check_win(board, player): # board : 현재 게임 보드 상태 , player : 확인할 플레이어 ( X 또는 O )\n",
    "    win_conf = [\n",
    "        [board[0], board[1], board[2]],\n",
    "        [board[3], board[4], board[5]],\n",
    "        [board[6], board[7], board[8]],\n",
    "        [board[0], board[3], board[6]],\n",
    "        [board[1], board[4], board[7]],\n",
    "        [board[2], board[5], board[8]],\n",
    "        [board[0], board[4], board[8]],\n",
    "        [board[2], board[4], board[6]],\n",
    "    ]\n",
    "    return [player, player, player] in win_conf"
   ]
  },
  {
   "cell_type": "code",
   "execution_count": 89,
   "metadata": {},
   "outputs": [],
   "source": [
    "# 게임 종료 확인 함수\n",
    "def game_over(board): \n",
    "    return check_win(board, 'X') or check_win(board, 'O')"
   ]
  },
  {
   "cell_type": "markdown",
   "metadata": {},
   "source": [
    "- **재귀 호출과 백트래킹**\n",
    "    - 미니맥스 함수는 재귀적으로 호출, 각 단계에서 보드 상태를 변경\n",
    "    - 보드 상태를 변경한 후에는 반드시 원래 상태로 복원\n",
    "    - 이를 통해 다른 경로의 탐색에 영향을 주지 않고 모든 가능한 수를 평가할 수 있다.\n",
    "- **평가함수의 역할**\n",
    "    - 게임의 종료 상태에서 누가 승리했는지에 따라 점수를 부여\n",
    "    - 이 점수를 기반으로 최적의 수를 결정\n",
    "- **무한대 값의 사용**\n",
    "    - 초기값을 큰 음수나 큰 양수로 설정하여 최대/최소 값을 찾을 수 있도록 한다.\n",
    "- 최대화 플레이어는 자신에게 유리한 수를 선택, 최소화 플레이어는 상대방에게 불리한 수를 선택"
   ]
  },
  {
   "cell_type": "code",
   "execution_count": 90,
   "metadata": {},
   "outputs": [],
   "source": [
    "# 미니맥스 알고리즘 함수\n",
    "def minimax(board, depth, maxPlayer): # board : 현재 게임 보드 상태, depth : 남은 탐색 깊이(얼마나 더 미래의 수를 볼지), maxPlayer: 현재 플레이어가 최대화 플레이어인지 여부 (True이면 'X')\n",
    "    global node_count\n",
    "    node_count += 1  # 노드 방문 시 카운트 증가\n",
    "    pos = -1\n",
    "    \n",
    "    # 단말 노드이면 보드를 평가하여 위치와 평가값 반환\n",
    "    if depth == 0 or len(empty_cells(board)) == 0 or game_over(board):\n",
    "        value = evaluate(board)\n",
    "        return -1, value\n",
    "\n",
    "    if maxPlayer:\n",
    "        value = float('-inf') # 음의 무한대\n",
    "        # 자식 노드를 하나씩 평가해서 최선의 선택을 찾는다.\n",
    "        for p in empty_cells(board):\n",
    "            board[p] = 'X' # \n",
    "            _, score = minimax(board, depth - 1, False) # 재귀적으로 minimax를 호출하여 상대 플레이어의 최적의 수를 계산\n",
    "            board[p] = ' ' # 다시 빈 상태로 돌린다.\n",
    "            if score > value: # 최대값을 찾고 최대값의 위치를 기억\n",
    "                value = score\n",
    "                pos = p\n",
    "    \n",
    "    else: # 'O'를 어디에 뒀을 때 가장 좋은가?\n",
    "        value = float('inf') # 양의 무한대\n",
    "        for p in empty_cells(board):\n",
    "            board[p] = 'O'\n",
    "            _, score = minimax(board, depth - 1, True) # 평가값을 구하여 minimax()를 실행\n",
    "            board[p] = ' '\n",
    "            if score < value:\n",
    "                value = score\n",
    "                pos = p\n",
    "    return pos, value \n"
   ]
  },
  {
   "cell_type": "code",
   "execution_count": 91,
   "metadata": {},
   "outputs": [
    {
     "name": "stdout",
     "output_type": "stream",
     "text": [
      "\n",
      "----------------\n",
      "| O || X ||   |\n",
      "----------------\n",
      "|   ||   || O |\n",
      "----------------\n",
      "| X ||   ||   |\n",
      "----------------\n",
      "\n",
      "X의 선택: 위치 4, 탐색한 노드 수: 226\n",
      "\n",
      "----------------\n",
      "| O || X ||   |\n",
      "----------------\n",
      "|   || X || O |\n",
      "----------------\n",
      "| X ||   ||   |\n",
      "----------------\n",
      "\n",
      "O의 선택: 위치 2, 탐색한 노드 수: 39\n",
      "\n",
      "----------------\n",
      "| O || X || O |\n",
      "----------------\n",
      "|   || X || O |\n",
      "----------------\n",
      "| X ||   ||   |\n",
      "----------------\n",
      "\n",
      "X의 선택: 위치 7, 탐색한 노드 수: 11\n",
      "\n",
      "----------------\n",
      "| O || X || O |\n",
      "----------------\n",
      "|   || X || O |\n",
      "----------------\n",
      "| X || X ||   |\n",
      "----------------\n",
      "\n",
      "----------------\n",
      "| O || X || O |\n",
      "----------------\n",
      "|   || X || O |\n",
      "----------------\n",
      "| X || X ||   |\n",
      "----------------\n",
      "X 승리!\n"
     ]
    }
   ],
   "source": [
    "# 메인 프로그램\n",
    "player = 'X'\n",
    "\n",
    "while True:\n",
    "    draw(game_board)\n",
    "    if len(empty_cells(game_board)) == 0 or game_over(game_board):\n",
    "        break\n",
    "    node_count = 0 # node_count 초기화\n",
    "    i, v = minimax(game_board, len(empty_cells(game_board)), player == 'X')\n",
    "    print(f\"\\n{player}의 선택: 위치 {i}, 탐색한 노드 수: {node_count}\")\n",
    "    game_board[i] = player\n",
    "    if player == 'X':\n",
    "        player = 'O'\n",
    "    else:\n",
    "        player = 'X'\n",
    "\n",
    "# 게임 결과 출력\n",
    "draw(game_board)\n",
    "if check_win(game_board, 'X'):\n",
    "    print('X 승리!')\n",
    "elif check_win(game_board, 'O'):\n",
    "    print('O 승리!')\n",
    "else:\n",
    "    print('비겼습니다!')"
   ]
  },
  {
   "cell_type": "markdown",
   "metadata": {},
   "source": [
    "#### Time Complexity of Minimax Algorithm\n",
    "- minimax 알고리즘은 DFS search를 보여준다.\n",
    "- max_depth는 m이고 각 상태에서 가능한 행동의 수가 b일 때, 시간 복잡도는 $O(b^m)$이다.\n",
    "\n",
    "### Heuristic Evaluation Function\n",
    "- 미니맥스 알고리즘 : 탐색 공간 전체를 탐색하는 것을 가정\n",
    "    - 하지만 실제로는 탐색 공간의 크기가 매우 커서 그렇게 할 수 없다.\n",
    "    - 이때 탐색을 끝내야하는 시간에 도달하면 탐색을 중단하고 탐색 중인 상태에 대하여 휴리스틱 평가 함수(evaluation function)를 적용\n",
    "    - 즉, 비단말 노드이지만 단말 노드에 도달한 것처럼 생각하는 것"
   ]
  },
  {
   "cell_type": "markdown",
   "metadata": {},
   "source": [
    "---\n",
    "## Alpha-Beta Pruning\n",
    "- MiniMax 알고리즘에서 형성되는 탐색 트리 중에서 상당 부분은 결과에 영향을 주지 않으면서 가지들을 쳐낼 수 있다.\n",
    "- 탐색을 할 때 알파값과 베타값이 자식 노드로 전달된다. 자식 노드에서는 알파값과 베타값을 비교하여 쓸떼없는 탐색을 중지한다.\n",
    "    - `Max는 알파값만 업데이트, Min은 베타값만 업데이트`\n",
    "\n",
    "- 알파 : MAX 플레이어의 가장 높은 값\n",
    "    - 경로를 따라 찾은 최고의 선택이나 가장 높은 값\n",
    "    - 초기값 : $-\\infty$\n",
    "- 베타 : MIN 플레이어의 가장 낮은 값\n",
    "    - 경로를 따라 찾은 최고의 선택이나 가장 낮은 값\n",
    "    - 초기값 : $+\\infty$\n",
    "- 알파-베타 가지치기 condition : $\\alpha \\geq \\beta$ 이면 탐색 중지\n",
    "- 규칙 : `알파와 베타값은 자식 노드에만 전달`, `노드 값은 알파와 베타의 값이 아닌 상위 노드로 전달`"
   ]
  },
  {
   "cell_type": "code",
   "execution_count": 81,
   "metadata": {},
   "outputs": [],
   "source": [
    "# Alpha-Beta Pruning이 적용된 미니맥스 알고리즘 함수\n",
    "def minimax(board, depth, alpha, beta, maxPlayer):\n",
    "    global node_count\n",
    "    node_count += 1  # 노드 방문 시 카운트 증가\n",
    "    pos = -1\n",
    "    if depth == 0 or len(empty_cells(board)) == 0 or game_over(board):\n",
    "        value = evaluate(board)\n",
    "        return -1, value\n",
    "\n",
    "    if maxPlayer:\n",
    "        value = float('-inf')\n",
    "        for p in empty_cells(board):\n",
    "            board[p] = 'X'\n",
    "            _, score = minimax(board, depth - 1, alpha, beta, False)\n",
    "            board[p] = ' '\n",
    "            if score > value:\n",
    "                value = score\n",
    "                pos = p\n",
    "            alpha = max(alpha, value)\n",
    "            if alpha >= beta:\n",
    "                break  # Beta 컷오프\n",
    "    else:\n",
    "        value = float('inf')\n",
    "        for p in empty_cells(board):\n",
    "            board[p] = 'O'\n",
    "            _, score = minimax(board, depth - 1, alpha, beta, True)\n",
    "            board[p] = ' '\n",
    "            if score < value:\n",
    "                value = score\n",
    "                pos = p\n",
    "            beta = min(beta, value)\n",
    "            if beta <= alpha:\n",
    "                break  # Alpha 컷오프\n",
    "    return pos, value"
   ]
  },
  {
   "cell_type": "code",
   "execution_count": 82,
   "metadata": {},
   "outputs": [
    {
     "name": "stdout",
     "output_type": "stream",
     "text": [
      "\n",
      "----------------\n",
      "| O || X ||   |\n",
      "----------------\n",
      "|   ||   || O |\n",
      "----------------\n",
      "| X ||   ||   |\n",
      "----------------\n",
      "\n",
      "X의 선택: 위치 4, 탐색한 노드 수: 102\n",
      "\n",
      "----------------\n",
      "| O || X ||   |\n",
      "----------------\n",
      "|   || X || O |\n",
      "----------------\n",
      "| X ||   ||   |\n",
      "----------------\n",
      "\n",
      "O의 선택: 위치 2, 탐색한 노드 수: 16\n",
      "\n",
      "----------------\n",
      "| O || X || O |\n",
      "----------------\n",
      "|   || X || O |\n",
      "----------------\n",
      "| X ||   ||   |\n",
      "----------------\n",
      "\n",
      "X의 선택: 위치 7, 탐색한 노드 수: 9\n",
      "\n",
      "----------------\n",
      "| O || X || O |\n",
      "----------------\n",
      "|   || X || O |\n",
      "----------------\n",
      "| X || X ||   |\n",
      "----------------\n",
      "\n",
      "----------------\n",
      "| O || X || O |\n",
      "----------------\n",
      "|   || X || O |\n",
      "----------------\n",
      "| X || X ||   |\n",
      "----------------\n",
      "X 승리!\n"
     ]
    }
   ],
   "source": [
    "# 메인 프로그램\n",
    "player = 'X'\n",
    "\n",
    "while True:\n",
    "    draw(game_board)\n",
    "    if len(empty_cells(game_board)) == 0 or game_over(game_board):\n",
    "        break\n",
    "    node_count = 0 # node_count 초기화\n",
    "    i, v = minimax(game_board, len(empty_cells(game_board)), float('-inf'), float('inf'), player == 'X')\n",
    "    print(f\"\\n{player}의 선택: 위치 {i}, 탐색한 노드 수: {node_count}\")\n",
    "    game_board[i] = player\n",
    "    if player == 'X':\n",
    "        player = 'O'\n",
    "    else:\n",
    "        player = 'X'\n",
    "\n",
    "# 게임 결과 출력\n",
    "draw(game_board)\n",
    "if check_win(game_board, 'X'):\n",
    "    print('X 승리!')\n",
    "elif check_win(game_board, 'O'):\n",
    "    print('O 승리!')\n",
    "else:\n",
    "    print('비겼습니다!')"
   ]
  },
  {
   "cell_type": "markdown",
   "metadata": {},
   "source": [
    "- 결과분석\n",
    "    - Alpha-Beta Prunin의 본질 : 알고리즘의 결과(최적의 수)를 변경하지 않고, `탐색 효율성`만 향상 시킨다.\n",
    "        - 즉, 게임의 진행과 결과가 동일하게 나타난다.\n",
    "        - 노드 카운트로 탐색한 노드 수 확인 가능\n",
    "    - 미니맥스 알고리즘 : 모든 가능한 게임 상태를 탐색\n",
    "    - Alpha-Beta Pruning : 불필요한 탐색을 줄이고, 더 빠르게 최적의 수를 찾는다."
   ]
  },
  {
   "cell_type": "markdown",
   "metadata": {},
   "source": [
    "### Summary\n",
    "- 게임에서는 상대방이 탐색에 영향을 끼침 -> 이 경우 미니맥스 알고리즘을 사용하여 탐색 진행 -> 미니맥스 알고리즘은 상대방이 최선의 수를 둔다고 가정하는 알고리즘\n",
    "- 두 명의 경기자 MAX와 MIN이 있으며, MAX는 평가 함수값이 최대인 자식 노드를 선택하고 MIN은 평가 함수값이 최소인 자식노드를 선택\n",
    "- 탐색 트리의 어떤 부분은 제외하여도 결과에 영향을 주지 않는다. 이것을 알파베타 가지치기라고 한다."
   ]
  }
 ],
 "metadata": {
  "kernelspec": {
   "display_name": "mlpython",
   "language": "python",
   "name": "python3"
  },
  "language_info": {
   "codemirror_mode": {
    "name": "ipython",
    "version": 3
   },
   "file_extension": ".py",
   "mimetype": "text/x-python",
   "name": "python",
   "nbconvert_exporter": "python",
   "pygments_lexer": "ipython3",
   "version": "3.11.9"
  }
 },
 "nbformat": 4,
 "nbformat_minor": 2
}
