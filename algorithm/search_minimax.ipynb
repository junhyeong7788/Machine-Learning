{
 "cells": [
  {
   "cell_type": "markdown",
   "metadata": {},
   "source": [
    "## search_algorithm (Minimax with Alpha-Beta Pruning)\n",
    "- 미니맥스 알고리즘 이해\n",
    "- 알파-베타 가지치기 알고리즘 이해\n",
    "\n",
    "---\n",
    "- Goal : Find the optimal move to win in the game of Tic-Tac-Toe(or chess) \n",
    "\n",
    "### Minimax Algorithm\n",
    "- A game of tic-tac-toe between two players, \"MAX\" and \"MIN\"\n",
    "    - Max(X)플레이어가 이기면 +1 점을 주고, X플레이어에 대해서는 최대값으로 가게끔 학습한다.\n",
    "    - MIN(O)플레이어가 이기면 -1 점을 주고, O플레이어에 대해서는 최소값으로 가게끔 학습한다."
   ]
  },
  {
   "cell_type": "markdown",
   "metadata": {},
   "source": [
    "### python (minimax : tic-tac-toe)\n"
   ]
  },
  {
   "cell_type": "code",
   "execution_count": 29,
   "metadata": {},
   "outputs": [
    {
     "data": {
      "text/plain": [
       "[' ', ' ', ' ', ' ', ' ', ' ', ' ', ' ', ' ']"
      ]
     },
     "execution_count": 29,
     "metadata": {},
     "output_type": "execute_result"
    }
   ],
   "source": [
    "# initialize game board\n",
    "# 보드는 1차원 리스트로 구현\n",
    "# game_board = [' ' for _ in range(9)]\n",
    "game_board = [' ', ' ', ' ',\n",
    "              ' ', ' ', ' ',\n",
    "              ' ', ' ', ' ']\n",
    "game_board"
   ]
  },
  {
   "cell_type": "code",
   "execution_count": 30,
   "metadata": {},
   "outputs": [],
   "source": [
    "# Draw game board\n",
    "# 현재 게임 보드를 그린다.\n",
    "def draw(board):\n",
    "    for i, cell in enumerate(board):\n",
    "        if i % 3 == 0:\n",
    "            print('\\n----------------')\n",
    "        print('|', cell , '|', end='')\n",
    "    print('\\n----------------')\n",
    "    "
   ]
  },
  {
   "cell_type": "code",
   "execution_count": 31,
   "metadata": {},
   "outputs": [],
   "source": [
    "# Define game over condition (the goal of the game)\n",
    "# 1차원 리스트에서 동일한 문자가 수직선이나 수평선, 대각선으로 나타나면\n",
    "# 승리한 것으로 한다.\n",
    "\n",
    "def check_win(board, player):\n",
    "    win_conf = [\n",
    "        [board[0], board[1], board[2]],\n",
    "        [board[3], board[4], board[5]],\n",
    "        [board[6], board[7], board[8]],\n",
    "        [board[0], board[3], board[6]],\n",
    "        [board[1], board[4], board[7]],\n",
    "        [board[2], board[5], board[8]],\n",
    "        [board[0], board[4], board[8]],\n",
    "        [board[2], board[4], board[6]],\n",
    "    ]\n",
    "    return [player, player, player] in win_conf\n",
    "\n",
    "def game_over(board):\n",
    "    return check_win(board, 'X') or check_win(board, 'O')"
   ]
  },
  {
   "cell_type": "code",
   "execution_count": 32,
   "metadata": {},
   "outputs": [],
   "source": [
    "def empty_cells(board):\n",
    "    cells = []\n",
    "    for x, cell in enumerate(board):\n",
    "        if cell == ' ':\n",
    "            cells.append(x)\n",
    "    return cells"
   ]
  },
  {
   "cell_type": "code",
   "execution_count": 33,
   "metadata": {},
   "outputs": [],
   "source": [
    "# Move\n",
    "# 비어 있는 칸에 놓을 수 있다.\n",
    "def valid_move(x):\n",
    "    return x in empty_cells(game_board)\n",
    "\n",
    "# 위치 x에 놓는다.\n",
    "def move(x, player):\n",
    "    if valid_move(x):\n",
    "        game_board[x] = player\n",
    "        return True\n",
    "    return False"
   ]
  },
  {
   "cell_type": "code",
   "execution_count": 34,
   "metadata": {},
   "outputs": [],
   "source": [
    "# Minimax algorithm - 미니맥스 알고리즘 구현\n",
    "# 이 함수는 순환적으로 호출된다.\n",
    "def minimax(board, depth, maxPlayer):\n",
    "    pos = -1\n",
    "    # 단말 노드의 판단 평가값을 반환한다.\n",
    "    if depth == 0 or len(empty_cells(board)) == 0 or game_over(board):\n",
    "        return -1, evaluate(board)\n",
    "\n",
    "    if maxPlayer:\n",
    "        value = -10000  # 큰 음의 값 (음의 무한대)\n",
    "        # 자식 노드를 하나씩 평가해서 최선의 선택을 찾는다.\n",
    "        for p in empty_cells(board):\n",
    "            board[p] = 'X'  # 보드의 p 위치에 'X'를 놓는다.\n",
    "            \n",
    "            # 평가값을 비교하여 minimax()를 실행한다.\n",
    "            x, score = minimax(board, depth - 1, False)\n",
    "            board[p] = ' '  # 다시 빈 상태로 돌린다.\n",
    "            \n",
    "            if score > value:\n",
    "                value = score  # 최대값을 찾는다.\n",
    "                pos = p  # 최대값의 위치를 기억한다.\n",
    "    else:\n",
    "        value = +10000  # 양의 무한대\n",
    "        # 자식 노드를 하나씩 평가해서 최선의 선택을 한다.\n",
    "        for p in empty_cells(board):\n",
    "            board[p] = 'O'  # 보드의 p 위치에 'O'를 놓는다.\n",
    "\n",
    "            # 평가값을 구해서 minimax()를 실행한다.\n",
    "            x, score = minimax(board, depth - 1, True)\n",
    "            board[p] = ' '  # 다시 빈 상태로 돌린다.\n",
    "            if score < value:\n",
    "                value = score  # 최소값을 찾는다.\n",
    "                pos = p  # 최소값의 위치를 기억한다.\n",
    "\n",
    "    return pos, value  # 위치와 값을 반환한다."
   ]
  },
  {
   "cell_type": "code",
   "execution_count": 35,
   "metadata": {},
   "outputs": [],
   "source": [
    "def evaluate(board):\n",
    "    if check_win(board, 'X'):\n",
    "        return 1\n",
    "    elif check_win(board, 'O'):\n",
    "        return -1\n",
    "    else:\n",
    "        return 0"
   ]
  },
  {
   "cell_type": "code",
   "execution_count": 36,
   "metadata": {},
   "outputs": [
    {
     "name": "stdout",
     "output_type": "stream",
     "text": [
      "\n",
      "----------------\n",
      "|   ||   ||   |\n",
      "----------------\n",
      "|   ||   ||   |\n",
      "----------------\n",
      "|   ||   ||   |\n",
      "----------------\n",
      "\n",
      "----------------\n",
      "| X ||   ||   |\n",
      "----------------\n",
      "|   ||   ||   |\n",
      "----------------\n",
      "|   ||   ||   |\n",
      "----------------\n",
      "\n",
      "----------------\n",
      "| X ||   ||   |\n",
      "----------------\n",
      "|   || O ||   |\n",
      "----------------\n",
      "|   ||   ||   |\n",
      "----------------\n",
      "\n",
      "----------------\n",
      "| X || X ||   |\n",
      "----------------\n",
      "|   || O ||   |\n",
      "----------------\n",
      "|   ||   ||   |\n",
      "----------------\n",
      "\n",
      "----------------\n",
      "| X || X || O |\n",
      "----------------\n",
      "|   || O ||   |\n",
      "----------------\n",
      "|   ||   ||   |\n",
      "----------------\n",
      "\n",
      "----------------\n",
      "| X || X || O |\n",
      "----------------\n",
      "|   || O ||   |\n",
      "----------------\n",
      "| X ||   ||   |\n",
      "----------------\n",
      "\n",
      "----------------\n",
      "| X || X || O |\n",
      "----------------\n",
      "| O || O ||   |\n",
      "----------------\n",
      "| X ||   ||   |\n",
      "----------------\n",
      "\n",
      "----------------\n",
      "| X || X || O |\n",
      "----------------\n",
      "| O || O || X |\n",
      "----------------\n",
      "| X ||   ||   |\n",
      "----------------\n",
      "\n",
      "----------------\n",
      "| X || X || O |\n",
      "----------------\n",
      "| O || O || X |\n",
      "----------------\n",
      "| X || O ||   |\n",
      "----------------\n",
      "\n",
      "----------------\n",
      "| X || X || O |\n",
      "----------------\n",
      "| O || O || X |\n",
      "----------------\n",
      "| X || O || X |\n",
      "----------------\n",
      "비겼습니다!\n"
     ]
    }
   ],
   "source": [
    "# Main program\n",
    "player = 'X'\n",
    "\n",
    "while True:\n",
    "    draw(game_board)\n",
    "    if len(empty_cells(game_board)) == 0 or game_over(game_board):\n",
    "        break\n",
    "    i, v = minimax(game_board, 9, player == 'X')\n",
    "    move(i, player)\n",
    "    if player == 'X':\n",
    "        player = 'O'\n",
    "    else:\n",
    "        player = 'X'\n",
    "\n",
    "if check_win(game_board, 'X'):\n",
    "    print('X 승리!')\n",
    "elif check_win(game_board, 'O'):\n",
    "    print('O 승리!')\n",
    "else:\n",
    "    print('비겼습니다!')"
   ]
  },
  {
   "cell_type": "markdown",
   "metadata": {},
   "source": [
    "#### Time Complexity of Minimax Algorithm\n",
    "- minimax 알고리즘은 DFS search를 보여준다.\n",
    "- max_depth는 m이고 각 상태에서 가능한 행동의 수가 b일 때, 시간 복잡도는 $O(b^m)$이다."
   ]
  },
  {
   "cell_type": "markdown",
   "metadata": {},
   "source": [
    "### Heuristic Evaluation Function\n",
    "- 미니맥스 알고리즘 : 탐색 공간 전체를 탐색하는 것을 가정\n",
    "    - 하지만 실제로는 탐색 공간의 크기가 매우 커서 그렇게 할 수 없다.\n",
    "    - 이때 탐색을 끝내야하는 시간에 도달하면 탐색을 중단하고 탐색 중인 상태에 대하여 휴리스틱 평가 함수(evaluation function)를 적용\n",
    "    - 즉, 비단말 노드이지만 단말 노드에 도달한 것처럼 생각하는 것"
   ]
  },
  {
   "cell_type": "markdown",
   "metadata": {},
   "source": [
    "## Alpha-Beta Pruning\n",
    "- MiniMax 알고리즘에서 형성되는 탐색 트리 중에서 상당 부분은 결과에 영향을 주지 않으면서 가지들을 쳐낼 수 있다.\n",
    "- 탐색을 할 때 알파값과 베타값이 자식 노드로 전달된다. 자식 노드에서는 알파값과 베타값을 비교하여 쓸떼없는 탐색을 중지한다.\n",
    "    - `Max는 알파값만 업데이트, Min은 베타값만 업데이트`\n",
    "\n",
    "- 알파 : MAX 플레이어의 가장 높은 값\n",
    "    - 경로를 따라 찾은 최고의 선택이나 가장 높은 값\n",
    "    - 초기값 : $-\\infty$\n",
    "- 베타 : MIN 플레이어의 가장 낮은 값\n",
    "    - 경로를 따라 찾은 최고의 선택이나 가장 낮은 값\n",
    "    - 초기값 : $+\\infty$\n",
    "- 알파-베타 가지치기 condition : $\\alpha \\geq \\beta$ 이면 탐색 중지\n",
    "- 규칙 : `알파와 베타값은 자식 노드에만 전달`, `노드 값은 알파와 베타의 값이 아닌 상위 노드로 전달`"
   ]
  },
  {
   "cell_type": "markdown",
   "metadata": {},
   "source": [
    "### Summary\n",
    "- 게임에서는 상대방이 탐색에 영향을 끼침 -> 이 경우 미니맥스 알고리즘을 사용하여 탐색 진행 -> 미니맥스 알고리즘은 상대방이 최선의 수를 둔다고 가정하는 알고리즘\n",
    "- 두 명의 경기자 MAX와 MIN이 있으며, MAX는 평가 함수값이 최대인 자식 노드를 선택하고 MIN은 평가 함수값이 최소인 자식노드를 선택\n",
    "- 탐색 트리의 어떤 부분은 제외하여도 결과에 영향을 주지 않는다. 이것을 알파베타 가지치기라고 한다."
   ]
  },
  {
   "cell_type": "markdown",
   "metadata": {},
   "source": []
  }
 ],
 "metadata": {
  "kernelspec": {
   "display_name": "mlpython",
   "language": "python",
   "name": "python3"
  },
  "language_info": {
   "codemirror_mode": {
    "name": "ipython",
    "version": 3
   },
   "file_extension": ".py",
   "mimetype": "text/x-python",
   "name": "python",
   "nbconvert_exporter": "python",
   "pygments_lexer": "ipython3",
   "version": "3.11.9"
  }
 },
 "nbformat": 4,
 "nbformat_minor": 2
}
